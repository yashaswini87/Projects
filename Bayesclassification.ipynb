{
 "metadata": {
  "name": "Bayesclassification"
 },
 "nbformat": 3,
 "nbformat_minor": 0,
 "worksheets": [
  {
   "cells": [
    {
     "cell_type": "code",
     "collapsed": false,
     "input": [
      "import unittest\n",
      "import ast\n",
      "import numpy as np\n",
      "import pdb\n",
      "import nltk"
     ],
     "language": "python",
     "metadata": {},
     "outputs": [],
     "prompt_number": 5
    },
    {
     "cell_type": "code",
     "collapsed": false,
     "input": [
      "import collections\n",
      "from collections import defaultdict\n",
      "import nltk\n",
      "import pdb\n",
      "\n",
      "def document_features(document, tagger_output):\n",
      "    \"\"\"\n",
      "    This function takes a document and a tagger_output=[(word,tag)]\n",
      "    (see functions below), and tells you which words were present as\n",
      "    'words' (as opposed to 'tags') in tagger_output.\n",
      "\n",
      "    Parameters\n",
      "    ----------\n",
      "    document: string, your document\n",
      "    tagger_output: list of tuples of the form [(word, tag)]\n",
      "    \n",
      "    Returns\n",
      "    -------\n",
      "    features : dictionary of tuples ('has(word)': Boolean)\n",
      "\n",
      "    Notes\n",
      "    -----\n",
      "    Use the nltk.word_tokenize() to break up your text into words \n",
      "    \"\"\"\n",
      "    words = [word for (word,tag) in docTag(document)]    # break up text into words\n",
      "    s = {word for (word,tag) in tagger_output}  # select word from the list of tuples\n",
      "    bool_list =[(expression in words) for expression in s]   # True if words are present as word in tagger_output\n",
      "    features = dict(zip(s,bool_list))  # form a dictionary of tuples   \n",
      "    return features"
     ],
     "language": "python",
     "metadata": {},
     "outputs": [],
     "prompt_number": 3
    },
    {
     "cell_type": "code",
     "collapsed": false,
     "input": [
      "def docTag(document):\n",
      "    \"\"\"\n",
      "    Takes a document and only returns the ONLY word tokens using onlyAlpha.\n",
      "    \n",
      "    Parameters:\n",
      "    ----------\n",
      "    doc: the document of interest\n",
      "    \n",
      "    Returns\n",
      "    -------\n",
      "    wordList: a list of word tokens.\n",
      "    \"\"\"\n",
      "    \n",
      "    tokenized_doc = nltk.word_tokenize(document)\n",
      "    taggedTokens = nltk.pos_tag(tokenized_doc)\n",
      "    \n",
      "    return taggedTokens"
     ],
     "language": "python",
     "metadata": {},
     "outputs": [],
     "prompt_number": 4
    },
    {
     "cell_type": "code",
     "collapsed": false,
     "input": [
      "review_pos = sorted(ast.literal_eval(\n",
      "            open('/home/yashu/Desktop/assignmentclasses/naivebayes/test/test_data/review_pos.data').read()))\n"
     ],
     "language": "python",
     "metadata": {},
     "outputs": [],
     "prompt_number": 6
    },
    {
     "cell_type": "code",
     "collapsed": false,
     "input": [
      "review = open('/home/yashu/Desktop/assignmentclasses/naivebayes/test/test_data/review.txt').read()"
     ],
     "language": "python",
     "metadata": {},
     "outputs": [],
     "prompt_number": 8
    },
    {
     "cell_type": "code",
     "collapsed": false,
     "input": [
      "features=document_features(review,review_pos)"
     ],
     "language": "python",
     "metadata": {},
     "outputs": [],
     "prompt_number": 10
    },
    {
     "cell_type": "code",
     "collapsed": false,
     "input": [
      "print(features)"
     ],
     "language": "python",
     "metadata": {},
     "outputs": [
      {
       "output_type": "stream",
       "stream": "stdout",
       "text": [
        "{'all': True, 'shot': True, 'schwartz': True, 'being': True, 'maxine': True, 'ending': True, 'course': True, 'classic': True, 'looks': True, 'file': True, 'cameron': True, 'yep': True, 'only': True, 'before': True, 'slow': True, 'group': True, 'just': True, 'head': True, 'homage': True, 'interesting': True, 'original': True, 'had': True, 'except': True, 'writing': True, 'to': True, 'lets': True, 'going': True, 'pretty': True, 'amazed': True, 'hidden': True, 'has': True, 'smart': True, 'happened': True, 'do': True, 'explorations': True, 'someone': True, 'hit': True, 'around': True, 'get': True, 'very': True, 'big': True, 'between': True, 'watch': True, 'kind': True, 'bean': True, 'made': True, 'every': True, 'know': True, 'they': True, 'surprise': True, 'not': True, 'world': True, 'he': True, 'now': True, 'disappointed': True, 'him': True, 'sucked': True, 'easily': True, 'gets': True, 'magic': True, 'like': True, 'did': True, 'turns': True, 'debut': True, 'make': True, 'puppeteer': True, 'she': True, 'an': True, 'found': True, 'funniest': True, 'boarded': True, 'side': True, 'the': True, 'right': True, 'old': True, 'often': True, 'charlie': True, 'streets': True, 'directing': True, 'idea': True, 'go': True, 'fabulous': True, 'doors': True, 'are': True, 'year': True, 'bizarre': True, 'best': True, 'out': True, 'even': True, 'lotte': True, 'what': True, 'plays': True, 'disbelief': True, 'cast': True, 'movie': True, 'wow': True, 'malkovich': True, 'witty': True, 'everything': True, 'acting': True, 'does': True, 'diaz': True, 'discovers': True, 'then': True, 'hilarious': True, 'new': True, 'boggles': True, 'ever': True, 'believeable': True, 'be': True, 'we': True, 'after': True, 'business': True, 'written': True, 'rolled': True, 'prettiest': True, 'lover': True, 'however': True, 'here': True, 'boss': True, 'highly': True, 'completely': True, 'let': True, 'besides': True, 'sexy': True, 'come': True, 'by': True, 'on': True, 'about': True, 'brilliant': True, 'of': True, 'could': True, 'jonze': True, 'favorite': True, 'job': True, 'later': True, 'cusack': True, 'thing': True, 'american': True, 'hired': True, 'overused': True, 'eight': True, 'weird': True, 'whole': True, 'think': True, 'jersey': True, 'and': True, 'fantastic': True, 'filmmakers': True, 'unattractive': True, 'point': True, 'into': True, 'catherine': True, 'period': True, 'reaches': True, 'one': True, 'makes': True, 'rolling': True, 'spinning': True, 'elevator': True, 'kings': True, 'comic': True, 'open': True, 'isles': True, 'brilliantly': True, 'my': True, 'little': True, 'or': True, 'from': True, 'her': True, 'curiosity': True, 'fifteen': True, 'top': True, 'there': True, 'three': True, 'long': True, 'returns': True, 'describes': True, 'master': True, 'combined': True, 'recommend': True, 'films': True, 'wonderfully': True, 'orsen': True, 'perfectly': True, 'was': True, 'tell': True, 'opens': True, 'gives': True, 'filer': True, 'direction': True, 'hard': True, 'door': True, 'that': True, 'some': True, 'spike': True, 'search': True, 'but': True, 'else': True, 'wonder': True, 'dramatic': True, 'date': True, 'doubts': True, 'appearence': True, 'believe': True, 'crawl': True, 'hollywood': True, 'women': True, 'me': True, 'again': True, 'myself': True, 'john': True, 'this': True, 'also': True, 'starts': True, 'up': True, 'us': True, 'will': True, 'movies': True, 'outstanding': True, 'can': True, 'many': True, 'toward': True, 'minutes': True, 'pick': True, 'screenplay': True, 'soft': True, 'his': True, 'cliches': True, 'sees': True, 'have': True, 'played': True, 'viewer': True, 'craig': True, 'is': True, 'mind': True, 'it': True, 'sad': True, 'kaufman': True, 'funny': True, 'as': True, 'good': True, 'something': True, 'want': True, 'in': True, 'seen': True, 'himself': True, 'pry': True, 'keener': True, 'film': True, 'unnoticeable': True, 'end': True, 'turnpike': True, 'anymore': True, 'no': True, 'ends': True, 'clever': True, 'watching': True, 'ideas': True, 'trip': True, 'strikingly': True, 'how': True, 'other': True, 'role': True, 'animal': True, 'laughed': True, 'performance': True, 'you': True, 'really': True, 'play': True, 'building': True, 'beauty': True, 'though': True, 'may': True, 'office': True, 'who': True, 'weirdest': True, 'much': True, 'most': True, 'regular': True, 'portal': True, 'utterly': True, 'fits': True, 'why': True, 'man': True, 'a': True, 'changes': True, 'off': True, 'lead': True, 'surprising': True, 'wife': True, 'i': True, 'onto': True, 'floor': True, 'well': True, 'finds': True, 'more': True, 'which': True, 'so': True, 'fact': True, 'time': True, 'at': True, 'twists': True, 'playing': True, 'inventie': True, 'for': True}\n"
       ]
      }
     ],
     "prompt_number": 12
    },
    {
     "cell_type": "code",
     "collapsed": false,
     "input": [],
     "language": "python",
     "metadata": {},
     "outputs": []
    }
   ],
   "metadata": {}
  }
 ]
}