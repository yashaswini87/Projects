{
 "metadata": {
  "name": "Linear Regression"
 },
 "nbformat": 3,
 "nbformat_minor": 0,
 "worksheets": [
  {
   "cells": [
    {
     "cell_type": "code",
     "collapsed": false,
     "input": [
      "import numpy as np\n",
      "import scipy as sp\n",
      "import pandas as pd\n",
      "from numpy import linalg as LA\n",
      "from pandas import Series, DataFrame"
     ],
     "language": "python",
     "metadata": {},
     "outputs": [],
     "prompt_number": 1
    },
    {
     "cell_type": "code",
     "collapsed": false,
     "input": [
      "def _check_dim(X, Y):\n",
      "    \"\"\"\n",
      "    Checks the dimensions of X, Y and raises ValueError if they are wrong.\n",
      "\n",
      "    Parameters\n",
      "    ----------\n",
      "    X, Y : Pandas DataFrame\n",
      "    \"\"\"\n",
      "    if len(X) != len(Y):\n",
      "        raise ValueError('X and Y must have same length')\n",
      "\n",
      "    if Y.shape[1] > 1:\n",
      "        raise ValueError('Y must be a single column')\n",
      "\n",
      "    return X, Y"
     ],
     "language": "python",
     "metadata": {},
     "outputs": [],
     "prompt_number": 2
    },
    {
     "cell_type": "code",
     "collapsed": false,
     "input": [
      "def _reshape_dim(X, Y):\n",
      "    \"\"\"\n",
      "    Adds extra dimensions to X, Y if necessary.\n",
      "\n",
      "    Parameters\n",
      "    ----------\n",
      "    X, Y : np.ndarray\n",
      "\n",
      "    Returns\n",
      "    -------\n",
      "    X, Y : Reshaped into (N x K) and (N x 1) np.ndarray\n",
      "    \"\"\"\n",
      "    if X.ndim < 2:\n",
      "        X = X[np.newaxis, :]  #newaxis is just None actually\n",
      "\n",
      "    if Y.ndim < 2:\n",
      "        Y = Y[:, np.newaxis]\n",
      "\n",
      "    return X, Y"
     ],
     "language": "python",
     "metadata": {},
     "outputs": [],
     "prompt_number": 3
    },
    {
     "cell_type": "code",
     "collapsed": false,
     "input": [
      "def _align(X, Y):\n",
      "    \"\"\"\n",
      "    Re-index Y so that it has the same index as X.\n",
      "\n",
      "    Parameters\n",
      "    ----------\n",
      "    X, Y : Pandas DataFrames or Series\n",
      "\n",
      "    Returns\n",
      "    -------\n",
      "    X, Y : Reindexed version\n",
      "    \"\"\"\n",
      "    return X, Y.reindex(X.index)"
     ],
     "language": "python",
     "metadata": {},
     "outputs": [],
     "prompt_number": 4
    },
    {
     "cell_type": "code",
     "collapsed": false,
     "input": [
      "def process_input(X, Y):\n",
      "    \"\"\"\n",
      "    Allows one to handle input that is either numpy arrays or pandas\n",
      "    DataFrames/Series.\n",
      "\n",
      "    If both are pandas objects, assumes we want the rows (index) of X and Y to\n",
      "    match.\n",
      "\n",
      "    Returns\n",
      "    -------\n",
      "    _out_wrapper : Function\n",
      "        Takes in N x 1 np.array, returns Series if both X and Y were DataFrame\n",
      "        and/or Series, and returns a K x 1 np.ndarray if either X or Y was a\n",
      "        np.ndarray\n",
      "    x_val : N x K np.ndarray\n",
      "    y_val : N x 1 np.ndarray\n",
      "    \"\"\"\n",
      "    if isinstance(Y, Series):\n",
      "        Y = DataFrame({0: Y})\n",
      "    if isinstance(X, Series):\n",
      "        idx = 0\n",
      "        if hasattr(Y, 'index'):\n",
      "            idx = Y.index[0]\n",
      "        X = DataFrame.from_dict({idx: X}, orient='index')\n",
      "\n",
      "    is_x_frame = isinstance(X, DataFrame)\n",
      "    is_y_frame = isinstance(Y, DataFrame)\n",
      "\n",
      "    # If both X and Y are DataFrame, then align them, make a reuturn handler,\n",
      "    # and extract their values.\n",
      "    if is_x_frame:\n",
      "        variables = X.columns\n",
      "        if is_y_frame:\n",
      "            X, Y = _check_dim(X, Y)\n",
      "            X, Y = _align(X, Y)\n",
      "            Y = Y.values\n",
      "        X, Y = _reshape_dim(X, Y)\n",
      "        X, Y = _check_dim(X.values, Y)\n",
      "        return lambda Z: Series(np.squeeze(Z), variables), X, Y\n",
      "\n",
      "    # Else if only Y is a DataFrame, extract the values\n",
      "    elif is_y_frame:\n",
      "        Y = Y.values\n",
      "\n",
      "    X, Y = _reshape_dim(X, Y)\n",
      "    X, Y = _check_dim(X, Y)\n",
      "    return lambda x:x, X, Y\n",
      "\n",
      "\n"
     ],
     "language": "python",
     "metadata": {},
     "outputs": [],
     "prompt_number": 5
    },
    {
     "cell_type": "code",
     "collapsed": false,
     "input": [
      "K = 3\n",
      "corr_len = 1"
     ],
     "language": "python",
     "metadata": {},
     "outputs": [],
     "prompt_number": 6
    },
    {
     "cell_type": "code",
     "collapsed": false,
     "input": [
      "Sigma = np.identity(K)"
     ],
     "language": "python",
     "metadata": {},
     "outputs": [],
     "prompt_number": 7
    },
    {
     "cell_type": "code",
     "collapsed": false,
     "input": [
      "print Sigma"
     ],
     "language": "python",
     "metadata": {},
     "outputs": [
      {
       "output_type": "stream",
       "stream": "stdout",
       "text": [
        "[[ 1.  0.  0.]\n",
        " [ 0.  1.  0.]\n",
        " [ 0.  0.  1.]]\n"
       ]
      }
     ],
     "prompt_number": 9
    },
    {
     "cell_type": "code",
     "collapsed": false,
     "input": [
      "enumerate(Sigma)"
     ],
     "language": "python",
     "metadata": {},
     "outputs": [
      {
       "output_type": "pyout",
       "prompt_number": 10,
       "text": [
        "<enumerate at 0x3289e10>"
       ]
      }
     ],
     "prompt_number": 10
    },
    {
     "cell_type": "code",
     "collapsed": false,
     "input": [
      "for i, row in enumerate(Sigma):\n",
      "    \n",
      "    for j,col in enumerate(row):\n",
      "        \n",
      "        if i!=j:\n",
      "            numerator = np.absolute(i-j)\n",
      "            Sigma[i, j] = np.exp(-numerator / corr_len)\n",
      "print Sigma"
     ],
     "language": "python",
     "metadata": {},
     "outputs": [
      {
       "output_type": "stream",
       "stream": "stdout",
       "text": [
        "[[ 1.          0.36787944  0.13533528]\n",
        " [ 0.36787944  1.          0.36787944]\n",
        " [ 0.13533528  0.36787944  1.        ]]\n"
       ]
      }
     ],
     "prompt_number": 15
    },
    {
     "cell_type": "code",
     "collapsed": false,
     "input": [],
     "language": "python",
     "metadata": {},
     "outputs": [],
     "prompt_number": 16
    },
    {
     "cell_type": "code",
     "collapsed": false,
     "input": [
      "N=123\n",
      "dx = N / 5\n",
      "ret = []\n",
      "for i in range(4):\n",
      "    ret.append((dx * i, dx * (i+1)))\n",
      "print ret\n",
      "print ret[-1][1]\n",
      "ret.append((ret[-1][1], N))"
     ],
     "language": "python",
     "metadata": {},
     "outputs": [
      {
       "output_type": "stream",
       "stream": "stdout",
       "text": [
        "[(0, 24), (24, 48), (48, 72), (72, 96)]\n",
        "96\n"
       ]
      }
     ],
     "prompt_number": 26
    },
    {
     "cell_type": "code",
     "collapsed": false,
     "input": [
      "ret"
     ],
     "language": "python",
     "metadata": {},
     "outputs": [
      {
       "output_type": "pyout",
       "prompt_number": 24,
       "text": [
        "[(0, 24), (24, 48), (48, 72), (72, 96), (96, 123)]"
       ]
      }
     ],
     "prompt_number": 24
    },
    {
     "cell_type": "code",
     "collapsed": false,
     "input": [],
     "language": "python",
     "metadata": {},
     "outputs": []
    }
   ],
   "metadata": {}
  }
 ]
}